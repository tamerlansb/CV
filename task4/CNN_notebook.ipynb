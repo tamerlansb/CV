{
 "cells": [
  {
   "cell_type": "code",
   "execution_count": 1,
   "metadata": {
    "scrolled": true
   },
   "outputs": [
    {
     "name": "stderr",
     "output_type": "stream",
     "text": [
      "Using TensorFlow backend.\n"
     ]
    },
    {
     "name": "stdout",
     "output_type": "stream",
     "text": [
      "[name: \"/cpu:0\"\n",
      "device_type: \"CPU\"\n",
      "memory_limit: 268435456\n",
      "locality {\n",
      "}\n",
      "incarnation: 13578939967489217491\n",
      "]\n"
     ]
    }
   ],
   "source": [
    "import keras\n",
    "from keras.datasets import mnist\n",
    "from keras.models import Sequential\n",
    "from keras.layers import Dense, Dropout, Flatten\n",
    "from keras.layers import Conv2D, MaxPooling2D, GlobalAveragePooling2D , Activation\n",
    "from keras.utils import np_utils\n",
    "from keras.layers.normalization import BatchNormalization\n",
    "from keras.regularizers import l2\n",
    "\n",
    "from skimage.io import imread\n",
    "from scipy.misc import imresize\n",
    "from skimage.util import invert\n",
    "\n",
    "import numpy as np\n",
    "\n",
    "from tensorflow.python.client import device_lib\n",
    "print(device_lib.list_local_devices())\n",
    "\n",
    "img_rows, img_cols = 128, 128\n",
    "input_shape = (img_rows, img_cols, 3)"
   ]
  },
  {
   "cell_type": "code",
   "execution_count": 2,
   "metadata": {
    "collapsed": true
   },
   "outputs": [],
   "source": [
    "from os.path import join\n",
    "from numpy import zeros, array\n",
    "\n",
    "def read_csv(filename):\n",
    "    res = {}\n",
    "    with open(filename) as fhandle:\n",
    "        next(fhandle)\n",
    "        for line in fhandle:\n",
    "            parts = line.rstrip('\\n').split(',')\n",
    "            coords = array([float(x) for x in parts[1:]], dtype='float64')\n",
    "            res[parts[0]] = coords\n",
    "    return res\n",
    "\n",
    "train_dir = '/home/tamerlan/CV/task4/tests/00_input/train'\n",
    "train_gt = read_csv(join(train_dir, 'gt.csv'))\n",
    "train_img_dir = join(train_dir, 'images')"
   ]
  },
  {
   "cell_type": "code",
   "execution_count": null,
   "metadata": {},
   "outputs": [
    {
     "data": {
      "text/plain": [
       "170.0"
      ]
     },
     "execution_count": 3,
     "metadata": {},
     "output_type": "execute_result"
    }
   ],
   "source": [
    "def read_img_shapes(gt_dir):\n",
    "        img_shapes = {}\n",
    "        with open(join(gt_dir, 'img_shapes.csv')) as fhandle:\n",
    "            next(fhandle)\n",
    "            for line in fhandle:\n",
    "                parts = line.rstrip('\\n').split(',')\n",
    "                filename = parts[0]\n",
    "                n_rows, n_cols = map(int, parts[1:])\n",
    "                img_shapes[filename] = (n_rows, n_cols)\n",
    "        return img_shapes\n",
    "    \n",
    "img_shapes = read_img_shapes('/home/tamerlan/CV/task4/tests/00_gt/')\n",
    "\n",
    "l = np.asarray(list(img_shapes.values()))\n",
    "np.median(l)"
   ]
  },
  {
   "cell_type": "code",
   "execution_count": null,
   "metadata": {
    "collapsed": true
   },
   "outputs": [],
   "source": [
    "\n",
    "filenames = list(train_gt.keys())\n",
    "data = zeros((len(filenames), 128, 128,3))\n",
    "for i in range(0, len(train_gt.keys())):\n",
    "        filename = join(train_img_dir, filenames[i])\n",
    "        pict = imread(filename)\n",
    "        if len(pict.shape)==2:\n",
    "            temp_pict = zeros((pict.shape[0],pict.shape[1],3))\n",
    "            temp_pict[...,0] = pict\n",
    "            temp_pict[...,1] = pict\n",
    "            temp_pict[...,2] = pict\n",
    "            pict = temp_pict\n",
    "        pict = imresize(pict , (128, 128), interp = 'bicubic')\n",
    "        data[i, :] = pict"
   ]
  },
  {
   "cell_type": "code",
   "execution_count": null,
   "metadata": {
    "collapsed": true,
    "scrolled": true
   },
   "outputs": [],
   "source": [
    "import matplotlib.pyplot as plt\n",
    "plt.imshow(data[0])\n",
    "plt.show()"
   ]
  },
  {
   "cell_type": "code",
   "execution_count": null,
   "metadata": {
    "collapsed": true
   },
   "outputs": [],
   "source": [
    "coords = np.asarray(list(img_shapes.values()))\n",
    "y = np.asarray(list(train_gt.values()))\n",
    "for i in range(0, len(train_gt.keys())):\n",
    "    kx = 128./coords[i][1]\n",
    "    ky = 128./coords[i][0]\n",
    "    y[i][np.array([0,2,4,6,8,10,12,14,16,18,20,22,24,26])] = kx*y[i][np.array([0,2,4,6,8,10,12,14,16,18,20,22,24,26])] \n",
    "    y[i][np.array([1,3,5,7,9,11,13,15,17,19,21,23,25,27])] = ky*y[i][np.array([1,3,5,7,9,11,13,15,17,19,21,23,25,27])] \n"
   ]
  },
  {
   "cell_type": "code",
   "execution_count": null,
   "metadata": {
    "collapsed": true
   },
   "outputs": [],
   "source": [
    "img_rows, img_cols = 128, 128\n",
    "\n",
    "\n",
    "input_shape = (img_rows, img_cols, 3)\n",
    "\n",
    "data = data.reshape(data.shape[0], img_rows, img_cols, 3)\n",
    "#data = data.astype('float32')\n",
    "#data /= 255"
   ]
  },
  {
   "cell_type": "code",
   "execution_count": null,
   "metadata": {
    "collapsed": true
   },
   "outputs": [],
   "source": [
    "import random \n",
    "from scipy.misc import imrotate\n",
    "from math import cos,sin\n",
    "from keras.preprocessing import image\n",
    "\n",
    "def yagenerator(folder, gt, batch_size):\n",
    "    h, w = 128, 128\n",
    "    names = list(gt.keys())\n",
    "    num = len(names)\n",
    "    #x = np.empty((batch_size, img_rows, img_cols, 3))\n",
    "    #y = np.empty((batch_size, 28))\n",
    "    \n",
    "    while(True):\n",
    "        random.shuffle(names)\n",
    "        for i in range(num // batch_size - 1):\n",
    "            x = np.empty((batch_size, img_rows, img_cols, 3))\n",
    "            y = np.empty((batch_size, 28))\n",
    "            \n",
    "            for j in range(batch_size):\n",
    "                ind = i * batch_size + j\n",
    "                name = names[ind]\n",
    "                #img = imread(join(folder, names[i]))\n",
    "                img = image.load_img(join(folder, name))\n",
    "                img = image.img_to_array(img)\n",
    "                hr = h / img.shape[0]\n",
    "                wr = w / img.shape[1]\n",
    "                img = imresize(img, (h, w), interp='bilinear')\n",
    "                x[j] = img\n",
    "                 \n",
    "                y[j] = gt[name].copy()\n",
    "                for k in range(14):\n",
    "                    y[j, 2 * k] = y[j, 2 * k] * wr\n",
    "                    y[j, 2 * k + 1] = y[j, 2 * k + 1] * hr\n",
    "            yield (x, y)\n",
    "\n",
    "def flip(image, coords):\n",
    "    def swap(coords, i, j):\n",
    "        temp = coords[2*i: 2*i + 2].copy()\n",
    "        coords[2*i: 2*i + 2] = coords[2*j: 2*j + 2].copy()\n",
    "        coords[2*j: 2*j + 2] = temp\n",
    "        return\n",
    "    x_coords = np.array([0,2,4,6,8,10,12,14,16,18,20,22,24,26])\n",
    "    image = np.fliplr(np.array(image))\n",
    "    coords = np.array(coords)\n",
    "    coords[x_coords] = image.shape[1] - coords[x_coords]\n",
    "    swap(coords,0,3)\n",
    "    swap(coords,1,2)\n",
    "    swap(coords,4,9)\n",
    "    swap(coords,5,8)\n",
    "    swap(coords,6,7)\n",
    "    swap(coords,11,13)\n",
    "    return image, coords\n",
    "\n",
    "def rotate(image, coords):\n",
    "    angle = random.uniform(-13.0,13.0)\n",
    "    matrix = np.array([[cos(angle*np.pi/180), sin(angle*np.pi/180)] ,\n",
    "                       [-sin(angle*np.pi/180), cos(angle*np.pi/180)]])\n",
    "    coords = np.array(coords)\n",
    "    for i in range(0,14):\n",
    "        coords[2*i: 2*i+2] = coords[2*i: 2*i+2] - [image.shape[1] / 2., image.shape[0] / 2.]\n",
    "        coords[2*i: 2*i+2] = matrix.dot(coords[2*i: 2*i+2])\n",
    "        coords[2*i: 2*i+2] = coords[2*i: 2*i+2] + [image.shape[1] / 2., image.shape[0] / 2.]\n",
    "    image = imrotate(np.array(image), angle)\n",
    "    return image, coords\n",
    "\n",
    "def crop(image, coords):\n",
    "    image = np.array(image)\n",
    "    coords = coords.copy()\n",
    "    from_x = int(image.shape[1]*0.075)\n",
    "    to_x = image.shape[1] - from_x\n",
    "    \n",
    "    from_y = int(image.shape[0]*0.075)\n",
    "    to_y = image.shape[0] - from_y\n",
    "    \n",
    "    x_coords = np.array([0,2,4,6,8,10,12,14,16,18,20,22,24,26])\n",
    "    y_coords = np.array([1,3,5,7,9,11,13,15,17,19,21,23,25,27])\n",
    "    \n",
    "    probability = random.randint(3,5)\n",
    "    if probability==0:\n",
    "        image = image[from_y:,from_x:,: ] \n",
    "        coords[x_coords] = coords[x_coords] - from_x\n",
    "        coords[y_coords] = coords[y_coords] - from_y\n",
    "    elif probability==1:\n",
    "        image = image[:,from_x:,: ] \n",
    "        coords[x_coords] = coords[x_coords] - from_x\n",
    "    elif probability==2:\n",
    "        image = image[from_y: ,: ] \n",
    "        coords[y_coords] = coords[y_coords] - from_y\n",
    "    elif probability==3:\n",
    "        image = image[ :to_y, : ] \n",
    "    elif probability==4:\n",
    "        image = image[ : , :to_x, ] \n",
    "    else :\n",
    "        image = image[:to_y, :to_x, ]\n",
    "    #print(probability)    \n",
    "    return image, coords\n",
    "\n",
    "def from_path_generator(path_features, labels_csv, batch_size, sample_size):\n",
    "    img_rows, img_cols = 128, 128\n",
    "    \n",
    "    filenames = list(labels_csv.keys())\n",
    "    labels = np.array(np.asarray(list(labels_csv.values())))\n",
    "    \n",
    "    x_coords = np.array([0,2,4,6,8,10,12,14,16,18,20,22,24,26])\n",
    "    y_coords = np.array([1,3,5,7,9,11,13,15,17,19,21,23,25,27])\n",
    "    \n",
    "    # random indexes for each epoch get  diff batchs\n",
    "    iterator = 0 \n",
    "    indexes = np.arange(sample_size)\n",
    "    #np.random.shuffle(indexes)\n",
    "    while True:\n",
    "        np.random.shuffle(indexes)\n",
    "        for iterator in range(sample_size//batch_size):\n",
    "            batch_features = np.zeros((batch_size, img_rows, img_cols, 3))\n",
    "            batch_labels = np.zeros((batch_size,28))\n",
    "            for i in range(0,batch_size):\n",
    "                # read picture\n",
    "                filename = join(train_img_dir, filenames[indexes[(i+iterator*batch_size)%sample_size]])\n",
    "                img = image.load_img(filename)\n",
    "                pict = image.img_to_array(img)\n",
    "                coords = labels[indexes[(i+iterator*batch_size)%sample_size]].copy()\n",
    "                \n",
    "                probability = random.randint(0,1)\n",
    "                if probability == 9:\n",
    "                    pict, coords = flip(pict, coords)\n",
    "                    \n",
    "                #coords[x_coords] = coords[x_coords] * 128.0 / pict.shape[1]\n",
    "                #coords[y_coords] = coords[y_coords] * 128.0 / pict.shape[0] \n",
    "                #pict = imresize(pict , (img_rows, img_cols,3), interp = 'bilinear')\n",
    "                  \n",
    "                probability = random.randint(0,1)\n",
    "                if probability == 9:\n",
    "                    pict, coords = rotate(pict, coords)\n",
    "                    \n",
    "                probability = random.randint(0,1)\n",
    "                if probability == 9:\n",
    "                    pict, coords = crop(pict, coords)\n",
    "                     \n",
    "                    \n",
    "                coords[x_coords] = coords[x_coords] * 1.0 / pict.shape[1]\n",
    "                coords[y_coords] = coords[y_coords] * 1.0 / pict.shape[0] \n",
    "                pict = imresize(pict , (img_rows, img_cols,3), interp = 'bilinear')\n",
    "                \n",
    "                batch_features[i] = pict\n",
    "                batch_labels[i] = coords\n",
    "                \n",
    "#             mean_img = np.zeros((128,128,3))\n",
    "#             for img in batch_features:\n",
    "#                 mean_img = mean_img + img/255\n",
    "#             batch_features = batch_features - mean_img*255.0/ batch_size\n",
    "            \n",
    "            batch_features = batch_features.astype('float32') / 255.0\n",
    "            yield (batch_features, batch_labels)"
   ]
  },
  {
   "cell_type": "code",
   "execution_count": null,
   "metadata": {
    "collapsed": true
   },
   "outputs": [],
   "source": [
    "import random \n",
    "from scipy.misc import imrotate, imread, imsave, imresize\n",
    "from math import cos,sin\n",
    "from keras.preprocessing import image\n",
    "from os.path import join\n",
    "import numpy as np\n",
    "\n",
    "\n",
    "def yagenerator2(path_features, labels_csv, batch_size, sample_size):\n",
    "    img_rows, img_cols = 128, 128\n",
    "    \n",
    "    filenames = list(labels_csv.keys())[:sample_size]\n",
    "    \n",
    "    x_coords = np.array([2 * k for k in range(0, 14)])\n",
    "    y_coords = np.array([2 * k + 1 for k in range(0, 14)])\n",
    "    \n",
    "    while True:\n",
    "        random.shuffle(filenames)\n",
    "        for iterator in range(sample_size // batch_size):\n",
    "            batch_features = np.zeros((batch_size, img_rows, img_cols, 3))\n",
    "            batch_labels = np.zeros((batch_size, 28))\n",
    "            \n",
    "            for i in range(0, batch_size):\n",
    "                # read picture\n",
    "                filename = join(train_img_dir, filenames[i + iterator * batch_size])\n",
    "                pict = imread(filename, mode='RGB')\n",
    "                coords = labels_csv[filenames[i + iterator * batch_size]].copy()\n",
    "                \n",
    "                probability = random.randint(0,1)\n",
    "                if probability == 1:\n",
    "                    pict, coords = flip(pict, coords)\n",
    "                \n",
    "                probability = random.randint(0,1)\n",
    "                if probability == 1:\n",
    "                    pict, coords = rotate(pict, coords)\n",
    "                \n",
    "                probability = random.randint(0,1)\n",
    "                if probability == 1:\n",
    "                    pict, coords = crop(pict, coords)\n",
    "                     \n",
    "                    \n",
    "                coords[x_coords] = coords[x_coords] / pict.shape[1]\n",
    "                coords[y_coords] = coords[y_coords] / pict.shape[0] \n",
    "                pict = imresize(pict, (img_rows, img_cols), interp = 'bilinear')\n",
    "                \n",
    "                batch_features[i] = pict\n",
    "                batch_labels[i] = coords\n",
    "            \n",
    "            batch_features = batch_features.astype('float32') / 255.0\n",
    "            yield (batch_features, batch_labels)"
   ]
  },
  {
   "cell_type": "code",
   "execution_count": null,
   "metadata": {
    "collapsed": true
   },
   "outputs": [],
   "source": [
    "\n",
    "model = Sequential()\n",
    "# first set of CONV => RELU => POOL\n",
    "model.add(Conv2D(32, 5, 5, border_mode=\"same\",\n",
    "    input_shape=(128,128, 3), dim_ordering='th'))\n",
    "model.add(Activation(\"relu\"))\n",
    "model.add(MaxPooling2D(pool_size=(2, 2), strides=(2, 2), dim_ordering='th'))\n",
    "model.add(BatchNormalization())\n",
    "\n",
    "# second set of CONV => RELU => POOL\n",
    "model.add(Conv2D(48, 5, 5, border_mode=\"same\"))\n",
    "model.add(Activation(\"relu\"))\n",
    "model.add(MaxPooling2D(pool_size=(2, 2), strides=(2, 2), dim_ordering='th'))\n",
    "model.add(BatchNormalization())\n",
    "\n",
    "# second set of CONV => RELU => POOL\n",
    "model.add(Conv2D(64, 5, 5, border_mode=\"same\"))\n",
    "model.add(Activation(\"relu\"))\n",
    "model.add(MaxPooling2D(pool_size=(2, 2)))\n",
    "model.add(BatchNormalization())\n",
    "\n",
    "# set of FC => RELU layers\n",
    "model.add(Flatten())\n",
    "model.add(Dense(500))\n",
    "model.add(Activation(\"relu\"))\n",
    "model.add(BatchNormalization())\n",
    "\n",
    "model.add(Dense(28))\n",
    "\n",
    "# Компилируем модель\n",
    "sgd = keras.optimizers.SGD(lr=0.1, clipnorm=1.)\n",
    "model.compile(loss=\"mse\", optimizer='sgd')\n",
    "\n",
    "print(model.summary())\n",
    "\n",
    "\n",
    "model.fit_generator(from_path_generator(train_img_dir, train_gt, batch_size=64, sample_size = 5000),\n",
    "                    steps_per_epoch=5000//64,\n",
    "                    epochs=50,\n",
    "                    verbose=1,\n",
    "                    validation_data=(data[5000:].astype('float32'), y[5000:]))"
   ]
  },
  {
   "cell_type": "code",
   "execution_count": null,
   "metadata": {
    "collapsed": true
   },
   "outputs": [],
   "source": [
    "\n",
    "model = Sequential()\n",
    "\n",
    "#model.add(BatchNormalization(input_shape=(128, 128, 3)))\n",
    "# first set of CONV => RELU => POOL\n",
    "model.add(Conv2D(16, (3,3),\n",
    "    input_shape=(128, 128, 3),activation='relu',padding='same', data_format = 'channels_last'))\n",
    "model.add(MaxPooling2D(pool_size=(2, 2)))\n",
    "#model.add(BatchNormalization())\n",
    "\n",
    "# second set of CONV => RELU => POOL\n",
    "model.add(Conv2D(32, (3, 3),activation='relu', padding='same'))\n",
    "model.add(MaxPooling2D(pool_size=(2, 2)))\n",
    "#model.add(BatchNormalization())\n",
    "\n",
    "# second set of CONV => RELU => POOL\n",
    "model.add(Conv2D(64, (3, 3),activation='relu',padding='same'))\n",
    "model.add(MaxPooling2D(pool_size=(2, 2)))\n",
    "#model.add(BatchNormalization())\n",
    "\n",
    "model.add(Conv2D(128, (3,3),activation='relu',padding='same'))\n",
    "model.add(MaxPooling2D(pool_size=(2, 2)))\n",
    "#model.add(BatchNormalization())\n",
    "\n",
    "# set of FC => RELU layers\n",
    "model.add(Flatten())\n",
    "model.add(Dense(150,activation='relu'))\n",
    "model.add(Dropout(0.2))\n",
    "#model.add(BatchNormalization())\n",
    "#model.add(Dense(84, activation='relu'))\n",
    "model.add(Dense(28))\n",
    "\n",
    "# Компилируем модель\n",
    "sgd = keras.optimizers.SGD(lr=0.01, clipnorm=1.)\n",
    "model.compile(loss=\"mse\", optimizer='sgd')"
   ]
  },
  {
   "cell_type": "code",
   "execution_count": null,
   "metadata": {
    "collapsed": true,
    "scrolled": false
   },
   "outputs": [],
   "source": [
    "print(model.summary())\n",
    "\n",
    "sgd = keras.optimizers.SGD(lr=0.0019)\n",
    "model.optimizer = sgd\n",
    "\n",
    "optimizer = keras.optimizers.SGD(lr=0.09, decay=1e-6, momentum=0.9, nesterov=True)\n",
    "\n",
    "model.compile(loss='mse',optimizer=optimizer)\n",
    "\n",
    "model.fit_generator(from_path_generator(train_img_dir, train_gt, batch_size=32, sample_size = 5000),\n",
    "                    steps_per_epoch=5000//32,\n",
    "                    epochs=50,\n",
    "                    verbose=1,\n",
    "                    validation_data=(data[5000:].astype('float32')/255, y[5000:]/128))"
   ]
  },
  {
   "cell_type": "code",
   "execution_count": null,
   "metadata": {
    "collapsed": true
   },
   "outputs": [],
   "source": [
    "model = Sequential()\n",
    "\n",
    "model.add(Conv2D(24,  kernel_size=(5, 5), \n",
    "                 activation='relu', \n",
    "                 input_shape=input_shape,\n",
    "                 data_format = 'channels_last'))\n",
    "model.add(MaxPooling2D(pool_size=(2, 2)))\n",
    "\n",
    "model.add(Conv2D(36, (5, 5), activation='relu'))\n",
    "model.add(MaxPooling2D(pool_size=(2, 2)))\n",
    "\n",
    "model.add(Conv2D(48, (3, 3), activation='relu'))\n",
    "model.add(MaxPooling2D(pool_size=(2, 2)))\n",
    "\n",
    "model.add(Conv2D(64, (3, 3), activation='relu'))\n",
    "model.add(MaxPooling2D(pool_size=(2, 2)))\n",
    "\n",
    "model.add(Flatten())\n",
    "model.add(Dense(500, activation='relu'))\n",
    "model.add(Dropout(0.3))\n",
    "\n",
    "model.add(Dense(84, activation='relu'))\n",
    "\n",
    "model.add(Dense(28))\n",
    "\n",
    "sgd = keras.optimizers.SGD(lr=0.1)\n",
    "model.compile(optimizer=sgd, loss='mse', metrics=['accuracy'])"
   ]
  },
  {
   "cell_type": "code",
   "execution_count": 70,
   "metadata": {
    "scrolled": false
   },
   "outputs": [
    {
     "name": "stdout",
     "output_type": "stream",
     "text": [
      "_________________________________________________________________\n",
      "Layer (type)                 Output Shape              Param #   \n",
      "=================================================================\n",
      "conv2d_68 (Conv2D)           (None, 128, 128, 16)      448       \n",
      "_________________________________________________________________\n",
      "max_pooling2d_68 (MaxPooling (None, 64, 64, 16)        0         \n",
      "_________________________________________________________________\n",
      "conv2d_69 (Conv2D)           (None, 64, 64, 32)        4640      \n",
      "_________________________________________________________________\n",
      "max_pooling2d_69 (MaxPooling (None, 32, 32, 32)        0         \n",
      "_________________________________________________________________\n",
      "conv2d_70 (Conv2D)           (None, 32, 32, 64)        18496     \n",
      "_________________________________________________________________\n",
      "max_pooling2d_70 (MaxPooling (None, 16, 16, 64)        0         \n",
      "_________________________________________________________________\n",
      "conv2d_71 (Conv2D)           (None, 16, 16, 128)       73856     \n",
      "_________________________________________________________________\n",
      "max_pooling2d_71 (MaxPooling (None, 8, 8, 128)         0         \n",
      "_________________________________________________________________\n",
      "flatten_18 (Flatten)         (None, 8192)              0         \n",
      "_________________________________________________________________\n",
      "dense_38 (Dense)             (None, 150)               1228950   \n",
      "_________________________________________________________________\n",
      "dropout_17 (Dropout)         (None, 150)               0         \n",
      "_________________________________________________________________\n",
      "dense_39 (Dense)             (None, 28)                4228      \n",
      "=================================================================\n",
      "Total params: 1,330,618\n",
      "Trainable params: 1,330,618\n",
      "Non-trainable params: 0\n",
      "_________________________________________________________________\n",
      "None\n",
      "Epoch 1/35\n",
      " 7/52 [===>..........................] - ETA: 140s - loss: 0.0019"
     ]
    },
    {
     "ename": "KeyboardInterrupt",
     "evalue": "",
     "output_type": "error",
     "traceback": [
      "\u001b[0;31m---------------------------------------------------------------------------\u001b[0m",
      "\u001b[0;31mKeyboardInterrupt\u001b[0m                         Traceback (most recent call last)",
      "\u001b[0;32m<ipython-input-70-4cde815094af>\u001b[0m in \u001b[0;36m<module>\u001b[0;34m()\u001b[0m\n\u001b[1;32m      5\u001b[0m                     \u001b[0mepochs\u001b[0m\u001b[0;34m=\u001b[0m\u001b[0;36m35\u001b[0m\u001b[0;34m,\u001b[0m\u001b[0;34m\u001b[0m\u001b[0m\n\u001b[1;32m      6\u001b[0m                     \u001b[0mverbose\u001b[0m\u001b[0;34m=\u001b[0m\u001b[0;36m1\u001b[0m\u001b[0;34m,\u001b[0m\u001b[0;34m\u001b[0m\u001b[0m\n\u001b[0;32m----> 7\u001b[0;31m                     validation_data=(data[5000:].astype('float32')/255., y[5000:]/128))\n\u001b[0m",
      "\u001b[0;32m/home/tamerlan/anaconda3/lib/python3.6/site-packages/keras/legacy/interfaces.py\u001b[0m in \u001b[0;36mwrapper\u001b[0;34m(*args, **kwargs)\u001b[0m\n\u001b[1;32m     86\u001b[0m                 warnings.warn('Update your `' + object_name +\n\u001b[1;32m     87\u001b[0m                               '` call to the Keras 2 API: ' + signature, stacklevel=2)\n\u001b[0;32m---> 88\u001b[0;31m             \u001b[0;32mreturn\u001b[0m \u001b[0mfunc\u001b[0m\u001b[0;34m(\u001b[0m\u001b[0;34m*\u001b[0m\u001b[0margs\u001b[0m\u001b[0;34m,\u001b[0m \u001b[0;34m**\u001b[0m\u001b[0mkwargs\u001b[0m\u001b[0;34m)\u001b[0m\u001b[0;34m\u001b[0m\u001b[0m\n\u001b[0m\u001b[1;32m     89\u001b[0m         \u001b[0mwrapper\u001b[0m\u001b[0;34m.\u001b[0m\u001b[0m_legacy_support_signature\u001b[0m \u001b[0;34m=\u001b[0m \u001b[0minspect\u001b[0m\u001b[0;34m.\u001b[0m\u001b[0mgetargspec\u001b[0m\u001b[0;34m(\u001b[0m\u001b[0mfunc\u001b[0m\u001b[0;34m)\u001b[0m\u001b[0;34m\u001b[0m\u001b[0m\n\u001b[1;32m     90\u001b[0m         \u001b[0;32mreturn\u001b[0m \u001b[0mwrapper\u001b[0m\u001b[0;34m\u001b[0m\u001b[0m\n",
      "\u001b[0;32m/home/tamerlan/anaconda3/lib/python3.6/site-packages/keras/models.py\u001b[0m in \u001b[0;36mfit_generator\u001b[0;34m(self, generator, steps_per_epoch, epochs, verbose, callbacks, validation_data, validation_steps, class_weight, max_q_size, workers, pickle_safe, initial_epoch)\u001b[0m\n\u001b[1;32m   1122\u001b[0m                                         \u001b[0mworkers\u001b[0m\u001b[0;34m=\u001b[0m\u001b[0mworkers\u001b[0m\u001b[0;34m,\u001b[0m\u001b[0;34m\u001b[0m\u001b[0m\n\u001b[1;32m   1123\u001b[0m                                         \u001b[0mpickle_safe\u001b[0m\u001b[0;34m=\u001b[0m\u001b[0mpickle_safe\u001b[0m\u001b[0;34m,\u001b[0m\u001b[0;34m\u001b[0m\u001b[0m\n\u001b[0;32m-> 1124\u001b[0;31m                                         initial_epoch=initial_epoch)\n\u001b[0m\u001b[1;32m   1125\u001b[0m \u001b[0;34m\u001b[0m\u001b[0m\n\u001b[1;32m   1126\u001b[0m     \u001b[0;34m@\u001b[0m\u001b[0minterfaces\u001b[0m\u001b[0;34m.\u001b[0m\u001b[0mlegacy_generator_methods_support\u001b[0m\u001b[0;34m\u001b[0m\u001b[0m\n",
      "\u001b[0;32m/home/tamerlan/anaconda3/lib/python3.6/site-packages/keras/legacy/interfaces.py\u001b[0m in \u001b[0;36mwrapper\u001b[0;34m(*args, **kwargs)\u001b[0m\n\u001b[1;32m     86\u001b[0m                 warnings.warn('Update your `' + object_name +\n\u001b[1;32m     87\u001b[0m                               '` call to the Keras 2 API: ' + signature, stacklevel=2)\n\u001b[0;32m---> 88\u001b[0;31m             \u001b[0;32mreturn\u001b[0m \u001b[0mfunc\u001b[0m\u001b[0;34m(\u001b[0m\u001b[0;34m*\u001b[0m\u001b[0margs\u001b[0m\u001b[0;34m,\u001b[0m \u001b[0;34m**\u001b[0m\u001b[0mkwargs\u001b[0m\u001b[0;34m)\u001b[0m\u001b[0;34m\u001b[0m\u001b[0m\n\u001b[0m\u001b[1;32m     89\u001b[0m         \u001b[0mwrapper\u001b[0m\u001b[0;34m.\u001b[0m\u001b[0m_legacy_support_signature\u001b[0m \u001b[0;34m=\u001b[0m \u001b[0minspect\u001b[0m\u001b[0;34m.\u001b[0m\u001b[0mgetargspec\u001b[0m\u001b[0;34m(\u001b[0m\u001b[0mfunc\u001b[0m\u001b[0;34m)\u001b[0m\u001b[0;34m\u001b[0m\u001b[0m\n\u001b[1;32m     90\u001b[0m         \u001b[0;32mreturn\u001b[0m \u001b[0mwrapper\u001b[0m\u001b[0;34m\u001b[0m\u001b[0m\n",
      "\u001b[0;32m/home/tamerlan/anaconda3/lib/python3.6/site-packages/keras/engine/training.py\u001b[0m in \u001b[0;36mfit_generator\u001b[0;34m(self, generator, steps_per_epoch, epochs, verbose, callbacks, validation_data, validation_steps, class_weight, max_q_size, workers, pickle_safe, initial_epoch)\u001b[0m\n\u001b[1;32m   1900\u001b[0m                     outs = self.train_on_batch(x, y,\n\u001b[1;32m   1901\u001b[0m                                                \u001b[0msample_weight\u001b[0m\u001b[0;34m=\u001b[0m\u001b[0msample_weight\u001b[0m\u001b[0;34m,\u001b[0m\u001b[0;34m\u001b[0m\u001b[0m\n\u001b[0;32m-> 1902\u001b[0;31m                                                class_weight=class_weight)\n\u001b[0m\u001b[1;32m   1903\u001b[0m \u001b[0;34m\u001b[0m\u001b[0m\n\u001b[1;32m   1904\u001b[0m                     \u001b[0;32mif\u001b[0m \u001b[0;32mnot\u001b[0m \u001b[0misinstance\u001b[0m\u001b[0;34m(\u001b[0m\u001b[0mouts\u001b[0m\u001b[0;34m,\u001b[0m \u001b[0mlist\u001b[0m\u001b[0;34m)\u001b[0m\u001b[0;34m:\u001b[0m\u001b[0;34m\u001b[0m\u001b[0m\n",
      "\u001b[0;32m/home/tamerlan/anaconda3/lib/python3.6/site-packages/keras/engine/training.py\u001b[0m in \u001b[0;36mtrain_on_batch\u001b[0;34m(self, x, y, sample_weight, class_weight)\u001b[0m\n\u001b[1;32m   1640\u001b[0m             \u001b[0mins\u001b[0m \u001b[0;34m=\u001b[0m \u001b[0mx\u001b[0m \u001b[0;34m+\u001b[0m \u001b[0my\u001b[0m \u001b[0;34m+\u001b[0m \u001b[0msample_weights\u001b[0m\u001b[0;34m\u001b[0m\u001b[0m\n\u001b[1;32m   1641\u001b[0m         \u001b[0mself\u001b[0m\u001b[0;34m.\u001b[0m\u001b[0m_make_train_function\u001b[0m\u001b[0;34m(\u001b[0m\u001b[0;34m)\u001b[0m\u001b[0;34m\u001b[0m\u001b[0m\n\u001b[0;32m-> 1642\u001b[0;31m         \u001b[0moutputs\u001b[0m \u001b[0;34m=\u001b[0m \u001b[0mself\u001b[0m\u001b[0;34m.\u001b[0m\u001b[0mtrain_function\u001b[0m\u001b[0;34m(\u001b[0m\u001b[0mins\u001b[0m\u001b[0;34m)\u001b[0m\u001b[0;34m\u001b[0m\u001b[0m\n\u001b[0m\u001b[1;32m   1643\u001b[0m         \u001b[0;32mif\u001b[0m \u001b[0mlen\u001b[0m\u001b[0;34m(\u001b[0m\u001b[0moutputs\u001b[0m\u001b[0;34m)\u001b[0m \u001b[0;34m==\u001b[0m \u001b[0;36m1\u001b[0m\u001b[0;34m:\u001b[0m\u001b[0;34m\u001b[0m\u001b[0m\n\u001b[1;32m   1644\u001b[0m             \u001b[0;32mreturn\u001b[0m \u001b[0moutputs\u001b[0m\u001b[0;34m[\u001b[0m\u001b[0;36m0\u001b[0m\u001b[0;34m]\u001b[0m\u001b[0;34m\u001b[0m\u001b[0m\n",
      "\u001b[0;32m/home/tamerlan/anaconda3/lib/python3.6/site-packages/keras/backend/tensorflow_backend.py\u001b[0m in \u001b[0;36m__call__\u001b[0;34m(self, inputs)\u001b[0m\n\u001b[1;32m   2267\u001b[0m         updated = session.run(self.outputs + [self.updates_op],\n\u001b[1;32m   2268\u001b[0m                               \u001b[0mfeed_dict\u001b[0m\u001b[0;34m=\u001b[0m\u001b[0mfeed_dict\u001b[0m\u001b[0;34m,\u001b[0m\u001b[0;34m\u001b[0m\u001b[0m\n\u001b[0;32m-> 2269\u001b[0;31m                               **self.session_kwargs)\n\u001b[0m\u001b[1;32m   2270\u001b[0m         \u001b[0;32mreturn\u001b[0m \u001b[0mupdated\u001b[0m\u001b[0;34m[\u001b[0m\u001b[0;34m:\u001b[0m\u001b[0mlen\u001b[0m\u001b[0;34m(\u001b[0m\u001b[0mself\u001b[0m\u001b[0;34m.\u001b[0m\u001b[0moutputs\u001b[0m\u001b[0;34m)\u001b[0m\u001b[0;34m]\u001b[0m\u001b[0;34m\u001b[0m\u001b[0m\n\u001b[1;32m   2271\u001b[0m \u001b[0;34m\u001b[0m\u001b[0m\n",
      "\u001b[0;32m/home/tamerlan/anaconda3/lib/python3.6/site-packages/tensorflow/python/client/session.py\u001b[0m in \u001b[0;36mrun\u001b[0;34m(self, fetches, feed_dict, options, run_metadata)\u001b[0m\n\u001b[1;32m    893\u001b[0m     \u001b[0;32mtry\u001b[0m\u001b[0;34m:\u001b[0m\u001b[0;34m\u001b[0m\u001b[0m\n\u001b[1;32m    894\u001b[0m       result = self._run(None, fetches, feed_dict, options_ptr,\n\u001b[0;32m--> 895\u001b[0;31m                          run_metadata_ptr)\n\u001b[0m\u001b[1;32m    896\u001b[0m       \u001b[0;32mif\u001b[0m \u001b[0mrun_metadata\u001b[0m\u001b[0;34m:\u001b[0m\u001b[0;34m\u001b[0m\u001b[0m\n\u001b[1;32m    897\u001b[0m         \u001b[0mproto_data\u001b[0m \u001b[0;34m=\u001b[0m \u001b[0mtf_session\u001b[0m\u001b[0;34m.\u001b[0m\u001b[0mTF_GetBuffer\u001b[0m\u001b[0;34m(\u001b[0m\u001b[0mrun_metadata_ptr\u001b[0m\u001b[0;34m)\u001b[0m\u001b[0;34m\u001b[0m\u001b[0m\n",
      "\u001b[0;32m/home/tamerlan/anaconda3/lib/python3.6/site-packages/tensorflow/python/client/session.py\u001b[0m in \u001b[0;36m_run\u001b[0;34m(self, handle, fetches, feed_dict, options, run_metadata)\u001b[0m\n\u001b[1;32m   1122\u001b[0m     \u001b[0;32mif\u001b[0m \u001b[0mfinal_fetches\u001b[0m \u001b[0;32mor\u001b[0m \u001b[0mfinal_targets\u001b[0m \u001b[0;32mor\u001b[0m \u001b[0;34m(\u001b[0m\u001b[0mhandle\u001b[0m \u001b[0;32mand\u001b[0m \u001b[0mfeed_dict_tensor\u001b[0m\u001b[0;34m)\u001b[0m\u001b[0;34m:\u001b[0m\u001b[0;34m\u001b[0m\u001b[0m\n\u001b[1;32m   1123\u001b[0m       results = self._do_run(handle, final_targets, final_fetches,\n\u001b[0;32m-> 1124\u001b[0;31m                              feed_dict_tensor, options, run_metadata)\n\u001b[0m\u001b[1;32m   1125\u001b[0m     \u001b[0;32melse\u001b[0m\u001b[0;34m:\u001b[0m\u001b[0;34m\u001b[0m\u001b[0m\n\u001b[1;32m   1126\u001b[0m       \u001b[0mresults\u001b[0m \u001b[0;34m=\u001b[0m \u001b[0;34m[\u001b[0m\u001b[0;34m]\u001b[0m\u001b[0;34m\u001b[0m\u001b[0m\n",
      "\u001b[0;32m/home/tamerlan/anaconda3/lib/python3.6/site-packages/tensorflow/python/client/session.py\u001b[0m in \u001b[0;36m_do_run\u001b[0;34m(self, handle, target_list, fetch_list, feed_dict, options, run_metadata)\u001b[0m\n\u001b[1;32m   1319\u001b[0m     \u001b[0;32mif\u001b[0m \u001b[0mhandle\u001b[0m \u001b[0;32mis\u001b[0m \u001b[0;32mNone\u001b[0m\u001b[0;34m:\u001b[0m\u001b[0;34m\u001b[0m\u001b[0m\n\u001b[1;32m   1320\u001b[0m       return self._do_call(_run_fn, self._session, feeds, fetches, targets,\n\u001b[0;32m-> 1321\u001b[0;31m                            options, run_metadata)\n\u001b[0m\u001b[1;32m   1322\u001b[0m     \u001b[0;32melse\u001b[0m\u001b[0;34m:\u001b[0m\u001b[0;34m\u001b[0m\u001b[0m\n\u001b[1;32m   1323\u001b[0m       \u001b[0;32mreturn\u001b[0m \u001b[0mself\u001b[0m\u001b[0;34m.\u001b[0m\u001b[0m_do_call\u001b[0m\u001b[0;34m(\u001b[0m\u001b[0m_prun_fn\u001b[0m\u001b[0;34m,\u001b[0m \u001b[0mself\u001b[0m\u001b[0;34m.\u001b[0m\u001b[0m_session\u001b[0m\u001b[0;34m,\u001b[0m \u001b[0mhandle\u001b[0m\u001b[0;34m,\u001b[0m \u001b[0mfeeds\u001b[0m\u001b[0;34m,\u001b[0m \u001b[0mfetches\u001b[0m\u001b[0;34m)\u001b[0m\u001b[0;34m\u001b[0m\u001b[0m\n",
      "\u001b[0;32m/home/tamerlan/anaconda3/lib/python3.6/site-packages/tensorflow/python/client/session.py\u001b[0m in \u001b[0;36m_do_call\u001b[0;34m(self, fn, *args)\u001b[0m\n\u001b[1;32m   1325\u001b[0m   \u001b[0;32mdef\u001b[0m \u001b[0m_do_call\u001b[0m\u001b[0;34m(\u001b[0m\u001b[0mself\u001b[0m\u001b[0;34m,\u001b[0m \u001b[0mfn\u001b[0m\u001b[0;34m,\u001b[0m \u001b[0;34m*\u001b[0m\u001b[0margs\u001b[0m\u001b[0;34m)\u001b[0m\u001b[0;34m:\u001b[0m\u001b[0;34m\u001b[0m\u001b[0m\n\u001b[1;32m   1326\u001b[0m     \u001b[0;32mtry\u001b[0m\u001b[0;34m:\u001b[0m\u001b[0;34m\u001b[0m\u001b[0m\n\u001b[0;32m-> 1327\u001b[0;31m       \u001b[0;32mreturn\u001b[0m \u001b[0mfn\u001b[0m\u001b[0;34m(\u001b[0m\u001b[0;34m*\u001b[0m\u001b[0margs\u001b[0m\u001b[0;34m)\u001b[0m\u001b[0;34m\u001b[0m\u001b[0m\n\u001b[0m\u001b[1;32m   1328\u001b[0m     \u001b[0;32mexcept\u001b[0m \u001b[0merrors\u001b[0m\u001b[0;34m.\u001b[0m\u001b[0mOpError\u001b[0m \u001b[0;32mas\u001b[0m \u001b[0me\u001b[0m\u001b[0;34m:\u001b[0m\u001b[0;34m\u001b[0m\u001b[0m\n\u001b[1;32m   1329\u001b[0m       \u001b[0mmessage\u001b[0m \u001b[0;34m=\u001b[0m \u001b[0mcompat\u001b[0m\u001b[0;34m.\u001b[0m\u001b[0mas_text\u001b[0m\u001b[0;34m(\u001b[0m\u001b[0me\u001b[0m\u001b[0;34m.\u001b[0m\u001b[0mmessage\u001b[0m\u001b[0;34m)\u001b[0m\u001b[0;34m\u001b[0m\u001b[0m\n",
      "\u001b[0;32m/home/tamerlan/anaconda3/lib/python3.6/site-packages/tensorflow/python/client/session.py\u001b[0m in \u001b[0;36m_run_fn\u001b[0;34m(session, feed_dict, fetch_list, target_list, options, run_metadata)\u001b[0m\n\u001b[1;32m   1304\u001b[0m           return tf_session.TF_Run(session, options,\n\u001b[1;32m   1305\u001b[0m                                    \u001b[0mfeed_dict\u001b[0m\u001b[0;34m,\u001b[0m \u001b[0mfetch_list\u001b[0m\u001b[0;34m,\u001b[0m \u001b[0mtarget_list\u001b[0m\u001b[0;34m,\u001b[0m\u001b[0;34m\u001b[0m\u001b[0m\n\u001b[0;32m-> 1306\u001b[0;31m                                    status, run_metadata)\n\u001b[0m\u001b[1;32m   1307\u001b[0m \u001b[0;34m\u001b[0m\u001b[0m\n\u001b[1;32m   1308\u001b[0m     \u001b[0;32mdef\u001b[0m \u001b[0m_prun_fn\u001b[0m\u001b[0;34m(\u001b[0m\u001b[0msession\u001b[0m\u001b[0;34m,\u001b[0m \u001b[0mhandle\u001b[0m\u001b[0;34m,\u001b[0m \u001b[0mfeed_dict\u001b[0m\u001b[0;34m,\u001b[0m \u001b[0mfetch_list\u001b[0m\u001b[0;34m)\u001b[0m\u001b[0;34m:\u001b[0m\u001b[0;34m\u001b[0m\u001b[0m\n",
      "\u001b[0;31mKeyboardInterrupt\u001b[0m: "
     ]
    }
   ],
   "source": [
    "print(model.summary())\n",
    "\n",
    "model.fit_generator(from_path_generator(train_img_dir, train_gt, batch_size=96, sample_size= 5000),\n",
    "                    steps_per_epoch=5000//96,\n",
    "                    epochs=35,\n",
    "                    verbose=1,\n",
    "                    validation_data=(data[5000:].astype('float32')/255., y[5000:]/128))"
   ]
  },
  {
   "cell_type": "code",
   "execution_count": null,
   "metadata": {
    "collapsed": true
   },
   "outputs": [],
   "source": [
    "model = Sequential()\n",
    "\n",
    "model.add(Conv2D(24,  kernel_size=(5, 5), \n",
    "                 activation='relu', \n",
    "                 input_shape=input_shape,\n",
    "                 data_format = 'channels_last'))\n",
    "model.add(MaxPooling2D(pool_size=(2, 2)))\n",
    "\n",
    "model.add(Conv2D(36, (5, 5), activation='relu'))\n",
    "model.add(MaxPooling2D(pool_size=(2, 2)))\n",
    "\n",
    "model.add(Flatten())\n",
    "\n",
    "model.add(Dense(84, activation='relu'))\n",
    "model.add(Dropout(0.2))\n",
    "model.add(Dense(28))\n",
    "\n",
    "sgd = keras.optimizers.SGD(lr=0.059, momentum=0.8)\n",
    "model.compile(optimizer=sgd, loss='mse', metrics=['accuracy'])"
   ]
  },
  {
   "cell_type": "code",
   "execution_count": null,
   "metadata": {
    "collapsed": true
   },
   "outputs": [],
   "source": [
    "print(model.summary())\n",
    "\n",
    "sgd = keras.optimizers.SGD(lr=0.01, clipnorm = 1.0)\n",
    "model.optimizer = sgd\n",
    "\n",
    "model.fit(data,y, batch_size=96, epochs=33,  validation_split=0.2, verbose=1)"
   ]
  },
  {
   "cell_type": "code",
   "execution_count": null,
   "metadata": {
    "collapsed": true
   },
   "outputs": [],
   "source": [
    "print(model.summary())\n",
    "\n",
    "sgd = keras.optimizers.SGD(lr=0.029, momentum=0.8)\n",
    "model.optimizer = sgd\n",
    "\n",
    "model.fit_generator(yagenerator(train_img_dir, train_gt, batch_size=96),\n",
    "                    steps_per_epoch=6000//96,\n",
    "                    epochs=35,\n",
    "                    verbose=1,\n",
    "                    validation_data=(data[4800:].astype('float32')/255.0, y[4800:]))"
   ]
  },
  {
   "cell_type": "code",
   "execution_count": null,
   "metadata": {
    "collapsed": true,
    "scrolled": true
   },
   "outputs": [],
   "source": [
    "print(model.summary())\n",
    "\n",
    "sgd = keras.optimizers.SGD(lr=0.029, momentum=0.8)\n",
    "model.optimizer = sgd\n",
    "\n",
    "model.fit_generator(from_path_generator(train_img_dir, train_gt, batch_size=96, sample_size = 4800),\n",
    "                    steps_per_epoch=4800//96,\n",
    "                    epochs=35,\n",
    "                    verbose=1,\n",
    "                    validation_data=(data[4800:].astype('float32')/255.0, y[4800:]/128.0))"
   ]
  },
  {
   "cell_type": "code",
   "execution_count": 2,
   "metadata": {},
   "outputs": [
    {
     "name": "stdout",
     "output_type": "stream",
     "text": [
      "_________________________________________________________________\n",
      "Layer (type)                 Output Shape              Param #   \n",
      "=================================================================\n",
      "conv2d_1 (Conv2D)            (None, 126, 126, 32)      896       \n",
      "_________________________________________________________________\n",
      "max_pooling2d_1 (MaxPooling2 (None, 63, 63, 32)        0         \n",
      "_________________________________________________________________\n",
      "conv2d_2 (Conv2D)            (None, 61, 61, 64)        18496     \n",
      "_________________________________________________________________\n",
      "max_pooling2d_2 (MaxPooling2 (None, 30, 30, 64)        0         \n",
      "_________________________________________________________________\n",
      "conv2d_3 (Conv2D)            (None, 28, 28, 32)        18464     \n",
      "_________________________________________________________________\n",
      "max_pooling2d_3 (MaxPooling2 (None, 14, 14, 32)        0         \n",
      "_________________________________________________________________\n",
      "flatten_1 (Flatten)          (None, 6272)              0         \n",
      "_________________________________________________________________\n",
      "dense_1 (Dense)              (None, 700)               4391100   \n",
      "_________________________________________________________________\n",
      "dropout_1 (Dropout)          (None, 700)               0         \n",
      "_________________________________________________________________\n",
      "dense_2 (Dense)              (None, 28)                19628     \n",
      "=================================================================\n",
      "Total params: 4,448,584\n",
      "Trainable params: 4,448,584\n",
      "Non-trainable params: 0\n",
      "_________________________________________________________________\n",
      "None\n"
     ]
    }
   ],
   "source": [
    "l2_lambda = 0.001\n",
    "\n",
    "model = Sequential()\n",
    "\n",
    "model.add(Conv2D(32, kernel_size=(3,3),\n",
    "                 activation='relu',\n",
    "                 input_shape=input_shape, \n",
    "                 data_format = 'channels_last'))\n",
    "model.add(MaxPooling2D(pool_size=(2, 2)))\n",
    "\n",
    "\n",
    "model.add(Conv2D(64, (3, 3), activation='relu'))\n",
    "model.add(MaxPooling2D(pool_size=(2, 2)))\n",
    "\n",
    "model.add(Conv2D(32, (3, 3), activation='relu' ))\n",
    "model.add(MaxPooling2D(pool_size=(2, 2)))\n",
    "\n",
    "model.add(Flatten())\n",
    "model.add(Dense(700, activation='relu'))\n",
    "model.add(Dropout(0.2))\n",
    "\n",
    "model.add(Dense(28))\n",
    "# Компилируем модель\n",
    "sgd = keras.optimizers.SGD(lr=0.05)\n",
    "model.compile(loss=\"mean_squared_error\", optimizer=sgd)\n",
    "\n",
    "print(model.summary())"
   ]
  },
  {
   "cell_type": "code",
   "execution_count": null,
   "metadata": {
    "collapsed": true,
    "scrolled": true
   },
   "outputs": [],
   "source": [
    "print(model.summary())\n",
    "\n",
    "model.fit(data/255.0,y, batch_size=96, epochs=33,  validation_split=0.2, verbose=1)"
   ]
  },
  {
   "cell_type": "code",
   "execution_count": null,
   "metadata": {
    "collapsed": true
   },
   "outputs": [],
   "source": [
    "sgd = keras.optimizers.SGD(lr=0.009, momentum=0.8)\n",
    "model.optimizer = 'adagrad'\n",
    "\n",
    "print(model.summary())\n",
    "\n",
    "model.fit(data/255.0,y, batch_size=96, epochs=33,  validation_split=0.2, verbose=1)"
   ]
  },
  {
   "cell_type": "code",
   "execution_count": null,
   "metadata": {
    "collapsed": true
   },
   "outputs": [],
   "source": [
    "print(model.summary())\n",
    "\n",
    "#sgd = keras.optimizers.SGD(lr=0.05,clipnorm=1.0, nesterov = True)\n",
    "#model.compile(loss=\"mean_squared_error\", optimizer=sgd)\n",
    "\n",
    "model.fit_generator(from_path_generator(train_img_dir, train_gt, batch_size=96, sample_size = 5000),\n",
    "                    steps_per_epoch=5000//96,\n",
    "                    epochs=35,\n",
    "                    verbose=1,\n",
    "                    validation_data=(data[5000:].astype('float32')/255.0, y[5000:]))"
   ]
  },
  {
   "cell_type": "code",
   "execution_count": null,
   "metadata": {
    "collapsed": true
   },
   "outputs": [],
   "source": [
    "#model.save(\"facepoints_model.hdf5\")\n",
    "sgd = keras.optimizers.SGD(lr=0.005, momentum=0.8)\n",
    "model.optimizer = sgd"
   ]
  },
  {
   "cell_type": "code",
   "execution_count": 69,
   "metadata": {},
   "outputs": [
    {
     "data": {
      "text/plain": [
       "0.090000004"
      ]
     },
     "execution_count": 69,
     "metadata": {},
     "output_type": "execute_result"
    }
   ],
   "source": [
    "import keras.backend as K\n",
    "#K.set_value(opt.lr, 0.01)\n",
    "K.get_value(model.optimizer.lr)"
   ]
  },
  {
   "cell_type": "code",
   "execution_count": 12,
   "metadata": {
    "collapsed": true
   },
   "outputs": [],
   "source": [
    "from keras.models import load_model\n",
    "\n",
    "model = load_model( 'facepoints_model.hdf5')"
   ]
  },
  {
   "cell_type": "code",
   "execution_count": 46,
   "metadata": {},
   "outputs": [
    {
     "name": "stdout",
     "output_type": "stream",
     "text": [
      "6000/6000 [==============================] - 52s    \n",
      "0.000605882172783\n",
      "Среднеквадратичное отклонение на тестовых данных: 0.00061\n"
     ]
    }
   ],
   "source": [
    "scores = model.evaluate(data[:].astype('float32')/255,y[:]/128, verbose=1)\n",
    "print(scores)\n",
    "print(\"Среднеквадратичное отклонение на тестовых данных: %.5f\" % (scores))"
   ]
  },
  {
   "cell_type": "code",
   "execution_count": null,
   "metadata": {
    "collapsed": true
   },
   "outputs": [],
   "source": [
    "l2_lambda = 0.001\n",
    "\n",
    "model = Sequential()\n",
    "\n",
    "model.add(Conv2D(16, kernel_size=(3,3),\n",
    "                 activation='relu',\n",
    "                 input_shape=input_shape, \n",
    "                 data_format = 'channels_last'))\n",
    "model.add(MaxPooling2D(pool_size=(2, 2)))\n",
    "\n",
    "\n",
    "model.add(Conv2D(64, (3, 3), activation='relu'))\n",
    "model.add(MaxPooling2D(pool_size=(2, 2)))\n",
    "\n",
    "model.add(Conv2D(32, (3, 3), activation='relu' ))\n",
    "model.add(MaxPooling2D(pool_size=(2, 2)))\n",
    "\n",
    "model.add(Conv2D(32, (3, 3), activation='relu' ))\n",
    "model.add(MaxPooling2D(pool_size=(2, 2)))\n",
    "\n",
    "\n",
    "model.add(Flatten())\n",
    "\n",
    "model.add(Dense(500, activation='relu'))\n",
    "model.add(Dropout(0.2))\n",
    "\n",
    "model.add(Dense(700, activation='relu'))\n",
    "model.add(Dropout(0.2))\n",
    "\n",
    "model.add(Dense(28, activation='relu'))\n",
    "# Компилируем модель\n",
    "sgd = keras.optimizers.SGD(lr=0.1, nesterov = True)\n",
    "model.compile(loss=\"mean_squared_error\", optimizer=sgd)"
   ]
  },
  {
   "cell_type": "code",
   "execution_count": null,
   "metadata": {
    "collapsed": true
   },
   "outputs": [],
   "source": [
    "from keras import backend as K\n",
    "from keras.callbacks import LearningRateScheduler\n",
    "import math\n",
    "\n",
    "decay_rate = []\n",
    "\n",
    "drop = 0.5\n",
    "epochs_drop = 1.0\n",
    "initial_lrate = 0.1\n",
    "\n",
    "def step_decay(epoch):\n",
    "    \n",
    "    # LearningRate = InitialLearningRate * DropRate^floor(Epoch / EpochDrop)\n",
    "    lrate = initial_lrate * math.pow(drop, math.floor((1+epoch)/epochs_drop))\n",
    "    \n",
    "    # Store the decaying learning rate in a list\n",
    "    decay_rate.append(lrate)\n",
    "    \n",
    "    return lrate\n",
    "\n",
    "def exp_decay(epoch):\n",
    "    initial_lrate = 0.01\n",
    "    k = 0.01\n",
    "    lrate = initial_lrate * math.exp(-k*epoch)\n",
    "    return lrate\n",
    "\n",
    "# Initialize Learning Rate Scheduler Callback\n",
    "lrate = LearningRateScheduler(exp_decay)\n",
    "\n",
    "\n",
    "print(model.summary())\n",
    "\n",
    "model.fit_generator(from_path_generator(train_img_dir, train_gt, batch_size=64, sample_size = 5000),\n",
    "                    steps_per_epoch=5000//64,\n",
    "                    epochs=40,\n",
    "                    verbose=1, callbacks = [lrate],\n",
    "                    validation_data=(data[5000:].astype('float32')/255.0,y[5000:]))"
   ]
  },
  {
   "cell_type": "code",
   "execution_count": 47,
   "metadata": {
    "collapsed": true
   },
   "outputs": [],
   "source": [
    "model.save(\"facepoints_model.hdf5\")"
   ]
  },
  {
   "cell_type": "code",
   "execution_count": null,
   "metadata": {
    "collapsed": true
   },
   "outputs": [],
   "source": [
    "model.save(\"facepoints_model3.hdf5\")"
   ]
  },
  {
   "cell_type": "code",
   "execution_count": null,
   "metadata": {
    "collapsed": true
   },
   "outputs": [],
   "source": [
    "model.save(\"facepoints_model128.hdf5\")"
   ]
  },
  {
   "cell_type": "code",
   "execution_count": null,
   "metadata": {
    "collapsed": true
   },
   "outputs": [],
   "source": [
    "model.save(\"facepoints_model128_batch250.hdf5\")"
   ]
  },
  {
   "cell_type": "code",
   "execution_count": null,
   "metadata": {
    "collapsed": true,
    "scrolled": true
   },
   "outputs": [],
   "source": [
    "print(model.summary())\n",
    "\n",
    "model.fit(data,y, batch_size=96, epochs=33,  validation_split=0.2, verbose=2)"
   ]
  },
  {
   "cell_type": "code",
   "execution_count": 18,
   "metadata": {
    "collapsed": true
   },
   "outputs": [],
   "source": [
    "def draw_points(image, coords):\n",
    "    image = np.array(image)\n",
    "    for i in range(0,14):\n",
    "        image[int(coords[2*i+1]),int(coords[2*i]),0] = 1.0\n",
    "        image[int(coords[2*i+1]),int(coords[2*i]),1] = 0\n",
    "        image[int(coords[2*i+1]),int(coords[2*i]),2] = 0\n",
    "\n",
    "        image[int(coords[2*i+1]) + 1,int(coords[2*i]) + 1,0] = 1.0\n",
    "        image[int(coords[2*i+1]) + 1,int(coords[2*i]) + 1,1] = 0\n",
    "        image[int(coords[2*i+1]) + 1,int(coords[2*i]) + 1,2] = 0\n",
    "\n",
    "        image[int(coords[2*i+1])-1,int(coords[2*i])-1,0] = 1.0\n",
    "        image[int(coords[2*i+1])-1,int(coords[2*i])-1,1] = 0\n",
    "        image[int(coords[2*i+1])-1,int(coords[2*i])-1,2] = 0\n",
    "\n",
    "        image[int(coords[2*i+1])+1,int(coords[2*i])-1,0] = 1.0\n",
    "        image[int(coords[2*i+1])+1,int(coords[2*i])-1,1] = 0\n",
    "        image[int(coords[2*i+1])+1,int(coords[2*i])-1,2] = 0\n",
    "\n",
    "        image[int(coords[2*i+1])-1,int(coords[2*i])+1,0] = 1.0\n",
    "        image[int(coords[2*i+1])-1,int(coords[2*i])+1,1] = 0\n",
    "        image[int(coords[2*i+1])-1,int(coords[2*i])+1,2] = 0\n",
    "    return image"
   ]
  },
  {
   "cell_type": "code",
   "execution_count": null,
   "metadata": {
    "collapsed": true
   },
   "outputs": [],
   "source": [
    "plt.imshow(draw_points(data[0]/255,y[0]))\n",
    "plt.show()"
   ]
  },
  {
   "cell_type": "code",
   "execution_count": null,
   "metadata": {
    "collapsed": true
   },
   "outputs": [],
   "source": [
    "n =0\n",
    "t,c = crop(data[n]/255,y[n])\n",
    "plt.imshow(draw_points(t,c))\n",
    "plt.show()"
   ]
  },
  {
   "cell_type": "code",
   "execution_count": null,
   "metadata": {
    "collapsed": true,
    "scrolled": true
   },
   "outputs": [],
   "source": [
    "\n",
    "for batch, labels in from_path_generator(train_img_dir, train_gt, batch_size=100, sample_size = 5000): \n",
    "    if True:\n",
    "        for i in range(batch.shape[0]):\n",
    "            plt.imshow(draw_points(batch[i],labels[i]*128))\n",
    "            #plt.imshow(img)\n",
    "            plt.show()\n",
    "        print(\"~~~~~~~~~~end batch~~~~~~~~~~~~~~~~~~~~~~~~~~~~~~~~\")"
   ]
  },
  {
   "cell_type": "code",
   "execution_count": 15,
   "metadata": {
    "collapsed": true
   },
   "outputs": [],
   "source": [
    "temp_im = np.zeros((1,128,128,3))\n",
    "temp_im[0] = data[0]/255\n",
    "coords_p = model.predict(data[:100].astype('float32')/255)"
   ]
  },
  {
   "cell_type": "code",
   "execution_count": 16,
   "metadata": {},
   "outputs": [
    {
     "name": "stdout",
     "output_type": "stream",
     "text": [
      "[ 0.19465649  0.19465649  0.48473282  0.22900763  0.64503817  0.2480916\n",
      "  0.77480916  0.19847328  0.25954198  0.29389313  0.32442748  0.28625954\n",
      "  0.41984733  0.3129771   0.61068702  0.33206107  0.65267176  0.30152672\n",
      "  0.73664122  0.32061069  0.59541985  0.54961832  0.35114504  0.66412214\n",
      "  0.53435115  0.6870229   0.64122137  0.68320611]\n"
     ]
    },
    {
     "data": {
      "text/plain": [
       "array([ 0.21202309,  0.20288363,  0.45653394,  0.2066208 ,  0.65417796,\n",
       "        0.23027222,  0.79081082,  0.22359554,  0.26092455,  0.2788043 ,\n",
       "        0.32824609,  0.2806569 ,  0.42990756,  0.29612097,  0.62749457,\n",
       "        0.32180598,  0.68568915,  0.30153352,  0.76827627,  0.32273975,\n",
       "        0.57363117,  0.54377902,  0.35685012,  0.66161811,  0.53482527,\n",
       "        0.68188083,  0.64638424,  0.68216926], dtype=float32)"
      ]
     },
     "execution_count": 16,
     "metadata": {},
     "output_type": "execute_result"
    }
   ],
   "source": [
    "print(y[0]/128)\n",
    "coords_p[0]"
   ]
  },
  {
   "cell_type": "code",
   "execution_count": 21,
   "metadata": {},
   "outputs": [
    {
     "data": {
      "image/png": "[encoded data removed]",
      "text/plain": [
       "<matplotlib.figure.Figure at 0x7fec659ca780>"
      ]
     },
     "metadata": {},
     "output_type": "display_data"
    }
   ],
   "source": [
    "plt.imshow(draw_points(data[9]/255,coords_p[9]*128))\n",
    "plt.show()"
   ]
  },
  {
   "cell_type": "code",
   "execution_count": null,
   "metadata": {
    "collapsed": true
   },
   "outputs": [],
   "source": [
    "coords = np.array(y[0]*128)\n",
    "img = data[0][10:118,:]/255\n",
    "\n",
    "\n",
    "x_coords = np.array([0,2,4,6,8,10,12,14,16,18,20,22,24,26])\n",
    "y_coords = np.array([1,3,5,7,9,11,13,15,17,19,21,23,25,27])\n",
    "\n",
    "coords[y_coords] = (coords[y_coords]-10)\n",
    "\n",
    "plt.imshow(draw_points(img,coords))\n",
    "plt.show()\n",
    "print(img.shape)"
   ]
  },
  {
   "cell_type": "code",
   "execution_count": null,
   "metadata": {
    "collapsed": true
   },
   "outputs": [],
   "source": [
    "coords[y_coords] = coords[y_coords]*128/img.shape[0]\n",
    "img = imresize(img,(128,128))\n",
    "plt.imshow(draw_points(img,coords))\n",
    "plt.show()"
   ]
  },
  {
   "cell_type": "code",
   "execution_count": null,
   "metadata": {
    "collapsed": true
   },
   "outputs": [],
   "source": [
    "mean_img = np.zeros((128,128,3))\n",
    "for img in data:\n",
    "    mean_img =mean_img + img/255\n",
    "    \n",
    "plt.imshow(mean_img/6000)\n",
    "plt.show()"
   ]
  },
  {
   "cell_type": "markdown",
   "metadata": {},
   "source": [
    "for batch, labels in from_path_generator(train_img_dir, train_gt, batch_size=96,sample_size=1000):\n",
    "    for i in range(batch.shape[0]):\n",
    "            plt.imshow(draw_points(batch[i],labels[i]*128))\n",
    "            plt.show()"
   ]
  },
  {
   "cell_type": "code",
   "execution_count": null,
   "metadata": {
    "collapsed": true
   },
   "outputs": [],
   "source": [
    "for batch, labels in from_path_generator(train_img_dir, train_gt, batch_size=96,sample_size=1000): \n",
    "    for i in range(batch.shape[0]): \n",
    "        plt.imshow(draw_points(batch[i],labels[i]*128)) \n",
    "        plt.show()"
   ]
  },
  {
   "cell_type": "code",
   "execution_count": null,
   "metadata": {
    "collapsed": true
   },
   "outputs": [],
   "source": [
    "x_coords = np.array([2 * k for k in range(0, 14)])\n",
    "y_coords = np.array([2 * k + 1 for k in range(0, 14)])"
   ]
  },
  {
   "cell_type": "code",
   "execution_count": 2,
   "metadata": {},
   "outputs": [
    {
     "ename": "NameError",
     "evalue": "name 'model' is not defined",
     "output_type": "error",
     "traceback": [
      "\u001b[0;31m---------------------------------------------------------------------------\u001b[0m",
      "\u001b[0;31mNameError\u001b[0m                                 Traceback (most recent call last)",
      "\u001b[0;32m<ipython-input-2-e9fde9f8e365>\u001b[0m in \u001b[0;36m<module>\u001b[0;34m()\u001b[0m\n\u001b[1;32m     58\u001b[0m     \u001b[0;32mreturn\u001b[0m \u001b[0mdetected_points\u001b[0m\u001b[0;34m\u001b[0m\u001b[0m\n\u001b[1;32m     59\u001b[0m \u001b[0;34m\u001b[0m\u001b[0m\n\u001b[0;32m---> 60\u001b[0;31m \u001b[0mdetected_points\u001b[0m \u001b[0;34m=\u001b[0m \u001b[0mdetect\u001b[0m\u001b[0;34m(\u001b[0m\u001b[0mmodel\u001b[0m\u001b[0;34m,\u001b[0m \u001b[0;34m'/home/tamerlan/CV/task4/tests/00_input/test/images'\u001b[0m\u001b[0;34m)\u001b[0m\u001b[0;34m\u001b[0m\u001b[0m\n\u001b[0m",
      "\u001b[0;31mNameError\u001b[0m: name 'model' is not defined"
     ]
    }
   ],
   "source": [
    "def detect(model, test_img_dir):\n",
    "    #filenames = glob(join(test_img_dir + '/', '*.jpg'))\n",
    "    #print(filenames)\n",
    "    filenames = os.listdir(test_img_dir)\n",
    "    filenames.sort()\n",
    "    detected_points = {}\n",
    "    batch_size = 1000\n",
    "    \n",
    "    x_coords = np.array([0,2,4,6,8,10,12,14,16,18,20,22,24,26])\n",
    "    y_coords = np.array([1,3,5,7,9,11,13,15,17,19,21,23,25,27])\n",
    "    \n",
    "    for j in range(len(filenames)//batch_size):\n",
    "        batch_features = np.zeros((batch_size, img_rows, img_cols, 3))\n",
    "        size_images = np.zeros((batch_size , 2))\n",
    "        for i in range(0,batch_size):\n",
    "            # read picture\n",
    "            filename = filenames[i+j*batch_size]\n",
    "            img = image.load_img(join(test_img_dir,filename))\n",
    "            pict = image.img_to_array(img)\n",
    "            size_images[i][0] = pict.shape[0]\n",
    "            size_images[i][1] = pict.shape[1]\n",
    "            \n",
    "            pict = imresize(pict , (img_rows, img_cols,3), interp = 'bilinear')\n",
    "            batch_features[i] = pict\n",
    "        batch_labels = model.predict(batch_features / 255.)\n",
    "        for i in range(0,batch_size):\n",
    "            coords = batch_labels[i]\n",
    "            coords[x_coords] = coords[x_coords] * size_images[i][1]\n",
    "            coords[y_coords] = coords[y_coords] * size_images[i][0]\n",
    "            \n",
    "            filename = filenames[i+j*batch_size]\n",
    "            detected_points[filename] = coords\n",
    "    \n",
    "    if (len(filenames)%batch_size!=0):\n",
    "        size_excess = len(filenames)%batch_size\n",
    "        k = len(filenames)//batch_size\n",
    "        batch_features = np.zeros((size_excess, img_rows, img_cols, 3))\n",
    "        size_images = np.zeros((size_excess , 2))\n",
    "        for i in range(0,size_excess):\n",
    "                # read picture\n",
    "                filename = filenames[i+k*batch_size]\n",
    "                img = image.load_img(join(test_img_dir,filename))\n",
    "                pict = image.img_to_array(img)\n",
    "                size_images[i][0] = pict.shape[0]\n",
    "                size_images[i][1] = pict.shape[1]\n",
    "\n",
    "                pict = imresize(pict , (img_rows, img_cols,3), interp = 'bilinear')\n",
    "                batch_features[i] = pict\n",
    "        batch_labels = model.predict(batch_features / 255.)\n",
    "        for i in range(0,size_excess):\n",
    "            coords = batch_labels[i]\n",
    "            coords[x_coords] = coords[x_coords] * size_images[i][1]\n",
    "            coords[y_coords] = coords[y_coords] * size_images[i][0]\n",
    "\n",
    "            filename = filenames[i+k*batch_size]\n",
    "            detected_points[filename] = coords\n",
    "            \n",
    "    return detected_points\n",
    "\n",
    "detected_points = detect(model, '/home/tamerlan/CV/task4/tests/00_input/test/images')"
   ]
  },
  {
   "cell_type": "code",
   "execution_count": 38,
   "metadata": {},
   "outputs": [
    {
     "data": {
      "text/plain": [
       "5999"
      ]
     },
     "execution_count": 38,
     "metadata": {},
     "output_type": "execute_result"
    }
   ],
   "source": [
    "len(detected_points)"
   ]
  },
  {
   "cell_type": "code",
   "execution_count": 3,
   "metadata": {},
   "outputs": [
    {
     "name": "stdout",
     "output_type": "stream",
     "text": [
      "_________________________________________________________________\n",
      "Layer (type)                 Output Shape              Param #   \n",
      "=================================================================\n",
      "conv2d_1 (Conv2D)            (None, 126, 126, 32)      320       \n",
      "_________________________________________________________________\n",
      "max_pooling2d_1 (MaxPooling2 (None, 63, 63, 32)        0         \n",
      "_________________________________________________________________\n",
      "conv2d_2 (Conv2D)            (None, 61, 61, 64)        18496     \n",
      "_________________________________________________________________\n",
      "max_pooling2d_2 (MaxPooling2 (None, 30, 30, 64)        0         \n",
      "_________________________________________________________________\n",
      "conv2d_3 (Conv2D)            (None, 28, 28, 128)       73856     \n",
      "_________________________________________________________________\n",
      "max_pooling2d_3 (MaxPooling2 (None, 14, 14, 128)       0         \n",
      "_________________________________________________________________\n",
      "dense_1 (Dense)              (None, 14, 14, 512)       66048     \n",
      "_________________________________________________________________\n",
      "dropout_1 (Dropout)          (None, 14, 14, 512)       0         \n",
      "_________________________________________________________________\n",
      "dense_2 (Dense)              (None, 14, 14, 512)       262656    \n",
      "_________________________________________________________________\n",
      "dropout_2 (Dropout)          (None, 14, 14, 512)       0         \n",
      "_________________________________________________________________\n",
      "dense_3 (Dense)              (None, 14, 14, 10)        5130      \n",
      "=================================================================\n",
      "Total params: 426,506\n",
      "Trainable params: 426,506\n",
      "Non-trainable params: 0\n",
      "_________________________________________________________________\n",
      "None\n"
     ]
    }
   ],
   "source": [
    "model = Sequential()\n",
    "\n",
    "model.add(Conv2D(32,  kernel_size=(3, 3), \n",
    "                 activation='relu', \n",
    "                 input_shape=(128,128,1),\n",
    "                 data_format = 'channels_last'))\n",
    "model.add(MaxPooling2D(pool_size=(2, 2)))\n",
    "\n",
    "model.add(Conv2D(64, (3, 3), activation='relu'))\n",
    "model.add(MaxPooling2D(pool_size=(2, 2)))\n",
    "\n",
    "model.add(Conv2D(128, (3, 3), activation='relu'))\n",
    "model.add(MaxPooling2D(pool_size=(2, 2)))\n",
    "\n",
    "model.add(Dense(512, activation='relu'))\n",
    "model.add(Dropout(0.2))\n",
    "model.add(Dense(512, activation='relu'))\n",
    "model.add(Dropout(0.2))\n",
    "model.add(Dense(10))\n",
    "\n",
    "sgd = keras.optimizers.SGD(lr=0.059, momentum=0.8)\n",
    "model.compile(optimizer=sgd, loss='mse', metrics=['accuracy'])\n",
    "\n",
    "print(model.summary())"
   ]
  },
  {
   "cell_type": "code",
   "execution_count": null,
   "metadata": {
    "collapsed": true
   },
   "outputs": [],
   "source": []
  }
 ],
 "metadata": {
  "kernelspec": {
   "display_name": "Python 3",
   "language": "python",
   "name": "python3"
  },
  "language_info": {
   "codemirror_mode": {
    "name": "ipython",
    "version": 3
   },
   "file_extension": ".py",
   "mimetype": "text/x-python",
   "name": "python",
   "nbconvert_exporter": "python",
   "pygments_lexer": "ipython3",
   "version": "3.6.1"
  }
 },
 "nbformat": 4,
 "nbformat_minor": 2
}
