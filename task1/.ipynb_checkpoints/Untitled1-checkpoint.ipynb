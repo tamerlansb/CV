{
 "cells": [
  {
   "cell_type": "code",
   "execution_count": 1,
   "metadata": {
    "collapsed": true
   },
   "outputs": [],
   "source": [
    "#aligned_img, (b_row, b_col), (r_row, r_col) = align(img, g_coord)\n",
    "import numpy as np\n",
    "from math import sqrt\n",
    "def corr(Im1,Im2):\n",
    "    corr_max = float(\"-inf\")\n",
    "    x_shift = 0\n",
    "    y_shift = 0\n",
    "    temp1 = Im1*Im1\n",
    "    temp2 = Im2*Im2\n",
    "    d = sqrt(np.sum(temp1)*np.sum(temp2))\n",
    "    for x in range(-15,15):\n",
    "        for y in range(-15,15):\n",
    "            corr = 0\n",
    "            T = Im1\n",
    "            S = np.roll(np.roll(Im2,x,1),y,0)\n",
    "            C = T*S\n",
    "            corr = np.sum(C) / d\n",
    "            if (corr > corr_max):\n",
    "                corr_max = corr\n",
    "                x_shift = x\n",
    "                y_shift = y\n",
    "    return y_shift,x_shift\n",
    "\n",
    "def align(img, g_coord):\n",
    "    h = im.shape[0]//3\n",
    "    deltaX = h*5//100\n",
    "    deltaY = im.shape[1]*5//100\n",
    "    R = im[deltaX:h-deltaX, deltaY :im.shape[1] -deltaY]\n",
    "    G = im[h+deltaX:h*2-deltaX,   deltaY :im.shape[1] -deltaY]\n",
    "    B = im[h*2+deltaX:h*3-deltaX,   deltaY :im.shape[1] -deltaY]\n",
    "    r = corr(G,R)\n",
    "    b = corr(G,B)\n",
    "    temp1 = np.roll(B,b[0],0)\n",
    "    temp1 = np.roll(temp1,b[1],1)\n",
    "    temp2 = np.roll(R,r[1],1)\n",
    "    temp2 = np.roll(temp2,r[0],0)\n",
    "    data = np.zeros( (R.shape[0],R.shape[1],3), dtype=np.uint8)\n",
    "    data[...,0] = temp1\n",
    "    data[...,1] = G\n",
    "    data[...,2] = temp2\n",
    "    aligned_img = data\n",
    "    (b_row, b_col) = g_coord + b\n",
    "    (r_row, r_col) = g_coord + r\n",
    "    return aligned_img, (b_row, b_col), (r_row, r_col)"
   ]
  },
  {
   "cell_type": "code",
   "execution_count": null,
   "metadata": {
    "collapsed": true
   },
   "outputs": [],
   "source": []
  }
 ],
 "metadata": {
  "kernelspec": {
   "display_name": "Python 3",
   "language": "python",
   "name": "python3"
  },
  "language_info": {
   "codemirror_mode": {
    "name": "ipython",
    "version": 3
   },
   "file_extension": ".py",
   "mimetype": "text/x-python",
   "name": "python",
   "nbconvert_exporter": "python",
   "pygments_lexer": "ipython3",
   "version": "3.6.1"
  }
 },
 "nbformat": 4,
 "nbformat_minor": 2
}
